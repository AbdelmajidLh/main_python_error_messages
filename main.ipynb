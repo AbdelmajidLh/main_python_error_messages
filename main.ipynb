{
 "cells": [
  {
   "cell_type": "markdown",
   "id": "d8842675",
   "metadata": {},
   "source": [
    "## AttributeError"
   ]
  },
  {
   "cell_type": "markdown",
   "id": "3aca8024",
   "metadata": {},
   "source": [
    "`AttributeError` : Chaque type de variable Python est un type d’objet différent. On accède à un attribut d’un objet en écrivant `objet.attribut` et à une méthode en écrivant `objet.methode()`. Si on essaie d’accéder à un attribut ou une méthode inexistante dans la classe de l’objet on aura cette erreur."
   ]
  },
  {
   "cell_type": "code",
   "execution_count": 1,
   "id": "72d0e3fe",
   "metadata": {
    "scrolled": true
   },
   "outputs": [
    {
     "ename": "AttributeError",
     "evalue": "module 'random' has no attribute 'randite'",
     "output_type": "error",
     "traceback": [
      "\u001b[1;31m---------------------------------------------------------------------------\u001b[0m",
      "\u001b[1;31mAttributeError\u001b[0m                            Traceback (most recent call last)",
      "Input \u001b[1;32mIn [1]\u001b[0m, in \u001b[0;36m<cell line: 3>\u001b[1;34m()\u001b[0m\n\u001b[0;32m      1\u001b[0m \u001b[38;5;66;03m# AttributeError\u001b[39;00m\n\u001b[0;32m      2\u001b[0m \u001b[38;5;28;01mimport\u001b[39;00m \u001b[38;5;21;01mrandom\u001b[39;00m\n\u001b[1;32m----> 3\u001b[0m \u001b[38;5;28mprint\u001b[39m(\u001b[38;5;124m\"\u001b[39m\u001b[38;5;124mLa valeur généréé est :\u001b[39m\u001b[38;5;124m\"\u001b[39m, \u001b[43mrandom\u001b[49m\u001b[38;5;241;43m.\u001b[39;49m\u001b[43mrandite\u001b[49m(\u001b[38;5;241m0\u001b[39m, \u001b[38;5;241m10\u001b[39m))\n",
      "\u001b[1;31mAttributeError\u001b[0m: module 'random' has no attribute 'randite'"
     ]
    }
   ],
   "source": [
    "# AttributeError\n",
    "import random\n",
    "print(\"La valeur généréé est :\", random.randite(0, 10))"
   ]
  },
  {
   "cell_type": "code",
   "execution_count": 5,
   "id": "0237a456",
   "metadata": {},
   "outputs": [
    {
     "name": "stdout",
     "output_type": "stream",
     "text": [
      "La valeur généréé est : 0\n"
     ]
    }
   ],
   "source": [
    "# AttributeError\n",
    "import random\n",
    "print(\"La valeur généréé est :\", random.randint(0, 10))"
   ]
  },
  {
   "cell_type": "markdown",
   "id": "e0e7eeed",
   "metadata": {},
   "source": [
    "## KeyError"
   ]
  },
  {
   "cell_type": "markdown",
   "id": "478d1583",
   "metadata": {},
   "source": [
    "`KeyError` : On fait appel à une clé inexistante de notre objet (liste, dictionnaire, dataframe…)."
   ]
  },
  {
   "cell_type": "code",
   "execution_count": 8,
   "id": "7d233c16",
   "metadata": {},
   "outputs": [
    {
     "ename": "KeyError",
     "evalue": "'element 4'",
     "output_type": "error",
     "traceback": [
      "\u001b[1;31m---------------------------------------------------------------------------\u001b[0m",
      "\u001b[1;31mKeyError\u001b[0m                                  Traceback (most recent call last)",
      "Input \u001b[1;32mIn [8]\u001b[0m, in \u001b[0;36m<cell line: 4>\u001b[1;34m()\u001b[0m\n\u001b[0;32m      1\u001b[0m pythonErrors \u001b[38;5;241m=\u001b[39m {\u001b[38;5;124m\"\u001b[39m\u001b[38;5;124mAttributeErroe\u001b[39m\u001b[38;5;124m\"\u001b[39m : \u001b[38;5;124m\"\u001b[39m\u001b[38;5;124mErreurs liées aux ...\u001b[39m\u001b[38;5;124m\"\u001b[39m,\n\u001b[0;32m      2\u001b[0m                 \u001b[38;5;124m\"\u001b[39m\u001b[38;5;124mKeyError\u001b[39m\u001b[38;5;124m\"\u001b[39m : \u001b[38;5;124m\"\u001b[39m\u001b[38;5;124mLa clé recherchée n\u001b[39m\u001b[38;5;124m'\u001b[39m\u001b[38;5;124mexiste pas dans le dictionnaire\u001b[39m\u001b[38;5;124m\"\u001b[39m,\n\u001b[0;32m      3\u001b[0m                 \u001b[38;5;124m\"\u001b[39m\u001b[38;5;124mIndexError\u001b[39m\u001b[38;5;124m\"\u001b[39m:\u001b[38;5;124m\"\u001b[39m\u001b[38;5;124mHors index\u001b[39m\u001b[38;5;124m\"\u001b[39m}\n\u001b[1;32m----> 4\u001b[0m \u001b[38;5;28mprint\u001b[39m(\u001b[43mpythonErrors\u001b[49m\u001b[43m[\u001b[49m\u001b[38;5;124;43m\"\u001b[39;49m\u001b[38;5;124;43melement 4\u001b[39;49m\u001b[38;5;124;43m\"\u001b[39;49m\u001b[43m]\u001b[49m)\n",
      "\u001b[1;31mKeyError\u001b[0m: 'element 4'"
     ]
    }
   ],
   "source": [
    "pythonErrors = {\"AttributeErroe\" : \"Erreurs liées aux ...\",\n",
    "                \"KeyError\" : \"La clé recherchée n'existe pas dans le dictionnaire\",\n",
    "                \"IndexError\":\"Hors index\"}\n",
    "print(pythonErrors[\"element 4\"])"
   ]
  },
  {
   "cell_type": "code",
   "execution_count": 9,
   "id": "7968e777",
   "metadata": {},
   "outputs": [
    {
     "name": "stdout",
     "output_type": "stream",
     "text": [
      "La clé recherchée n'existe pas dans le dictionnaire\n"
     ]
    }
   ],
   "source": [
    "pythonErrors = {\"AttributeErroe\" : \"Erreurs liées aux ...\",\n",
    "                \"KeyError\" : \"La clé recherchée n'existe pas dans le dictionnaire\",\n",
    "                \"IndexError\":\"Hors index\"}\n",
    "print(pythonErrors[\"KeyError\"])"
   ]
  },
  {
   "cell_type": "markdown",
   "id": "958c82f2",
   "metadata": {},
   "source": [
    "## IndexError"
   ]
  },
  {
   "cell_type": "markdown",
   "id": "fbc55fa3",
   "metadata": {},
   "source": [
    "`IndexError` : On cherche la position d’un objet qui n’existe pas, par exemple l’élément à la position 6 d’une liste qui n’en contient que 4."
   ]
  },
  {
   "cell_type": "code",
   "execution_count": 10,
   "id": "6f01d10a",
   "metadata": {},
   "outputs": [
    {
     "ename": "IndexError",
     "evalue": "list index out of range",
     "output_type": "error",
     "traceback": [
      "\u001b[1;31m---------------------------------------------------------------------------\u001b[0m",
      "\u001b[1;31mIndexError\u001b[0m                                Traceback (most recent call last)",
      "Input \u001b[1;32mIn [10]\u001b[0m, in \u001b[0;36m<cell line: 2>\u001b[1;34m()\u001b[0m\n\u001b[0;32m      1\u001b[0m maListe \u001b[38;5;241m=\u001b[39m [\u001b[38;5;241m2019\u001b[39m, \u001b[38;5;241m2020\u001b[39m, \u001b[38;5;241m2021\u001b[39m, \u001b[38;5;241m2022\u001b[39m]\n\u001b[1;32m----> 2\u001b[0m \u001b[38;5;28mprint\u001b[39m(\u001b[43mmaListe\u001b[49m\u001b[43m[\u001b[49m\u001b[38;5;241;43m5\u001b[39;49m\u001b[43m]\u001b[49m)\n",
      "\u001b[1;31mIndexError\u001b[0m: list index out of range"
     ]
    }
   ],
   "source": [
    "maListe = [2019, 2020, 2021, 2022]\n",
    "print(maListe[5])"
   ]
  },
  {
   "cell_type": "code",
   "execution_count": 11,
   "id": "9cbc72a7",
   "metadata": {},
   "outputs": [
    {
     "name": "stdout",
     "output_type": "stream",
     "text": [
      "2022\n"
     ]
    }
   ],
   "source": [
    "print(maListe[3])"
   ]
  },
  {
   "cell_type": "markdown",
   "id": "c25d780d",
   "metadata": {},
   "source": [
    "## NameError"
   ]
  },
  {
   "cell_type": "markdown",
   "id": "a0485897",
   "metadata": {},
   "source": [
    "`NameError` : On fait appel à une variable ou fonction inconnue."
   ]
  },
  {
   "cell_type": "code",
   "execution_count": 12,
   "id": "58bdbf5e",
   "metadata": {},
   "outputs": [
    {
     "ename": "NameError",
     "evalue": "name 'calcul_sum' is not defined",
     "output_type": "error",
     "traceback": [
      "\u001b[1;31m---------------------------------------------------------------------------\u001b[0m",
      "\u001b[1;31mNameError\u001b[0m                                 Traceback (most recent call last)",
      "Input \u001b[1;32mIn [12]\u001b[0m, in \u001b[0;36m<cell line: 1>\u001b[1;34m()\u001b[0m\n\u001b[1;32m----> 1\u001b[0m \u001b[38;5;28mprint\u001b[39m(\u001b[43mcalcul_sum\u001b[49m(\u001b[38;5;241m12\u001b[39m,\u001b[38;5;241m10\u001b[39m))\n",
      "\u001b[1;31mNameError\u001b[0m: name 'calcul_sum' is not defined"
     ]
    }
   ],
   "source": [
    "print(calcul_sum(12,10))"
   ]
  },
  {
   "cell_type": "code",
   "execution_count": 13,
   "id": "ed8338d6",
   "metadata": {},
   "outputs": [
    {
     "name": "stdout",
     "output_type": "stream",
     "text": [
      "22\n"
     ]
    }
   ],
   "source": [
    "def calcul_sum(a,b):\n",
    "    return a + b\n",
    "print(calcul_sum(12,10))"
   ]
  },
  {
   "cell_type": "markdown",
   "id": "a515dc61",
   "metadata": {},
   "source": [
    "## SyntaxError"
   ]
  },
  {
   "cell_type": "markdown",
   "id": "f658cefd",
   "metadata": {},
   "source": [
    "`SyntaxError` : L’erreur la plus courante, qui apparaît quand on fait une faute de grammaire propre au langage Python."
   ]
  },
  {
   "cell_type": "code",
   "execution_count": 17,
   "id": "db2f3320",
   "metadata": {},
   "outputs": [
    {
     "ename": "SyntaxError",
     "evalue": "invalid syntax (3343700901.py, line 2)",
     "output_type": "error",
     "traceback": [
      "\u001b[1;36m  Input \u001b[1;32mIn [17]\u001b[1;36m\u001b[0m\n\u001b[1;33m    if name == \"Abdelmajid\"\u001b[0m\n\u001b[1;37m                           ^\u001b[0m\n\u001b[1;31mSyntaxError\u001b[0m\u001b[1;31m:\u001b[0m invalid syntax\n"
     ]
    }
   ],
   "source": [
    "name = \"Abdelmajid\"\n",
    "if name == \"Abdelmajid\"\n",
    "    print(f\"Hello {name}!\")"
   ]
  },
  {
   "cell_type": "code",
   "execution_count": 18,
   "id": "65e0eb07",
   "metadata": {},
   "outputs": [
    {
     "name": "stdout",
     "output_type": "stream",
     "text": [
      "Hello Abdelmajid!\n"
     ]
    }
   ],
   "source": [
    "name = \"Abdelmajid\"\n",
    "if name == \"Abdelmajid\":\n",
    "    print(f\"Hello {name}!\")"
   ]
  },
  {
   "cell_type": "markdown",
   "id": "ea7a20f7",
   "metadata": {},
   "source": [
    "## TypeError"
   ]
  },
  {
   "cell_type": "markdown",
   "id": "1dbe6875",
   "metadata": {},
   "source": [
    "`TypeError` : Plusieurs causes sont possibles, mais elles tournent autour d’un problème de type de variable. Par exemple, on fait une conversion de type interdite."
   ]
  },
  {
   "cell_type": "code",
   "execution_count": 21,
   "id": "a0307904",
   "metadata": {},
   "outputs": [
    {
     "ename": "TypeError",
     "evalue": "unsupported operand type(s) for +: 'int' and 'str'",
     "output_type": "error",
     "traceback": [
      "\u001b[1;31m---------------------------------------------------------------------------\u001b[0m",
      "\u001b[1;31mTypeError\u001b[0m                                 Traceback (most recent call last)",
      "Input \u001b[1;32mIn [21]\u001b[0m, in \u001b[0;36m<cell line: 1>\u001b[1;34m()\u001b[0m\n\u001b[1;32m----> 1\u001b[0m \u001b[38;5;28mprint\u001b[39m(\u001b[38;5;241;43m2022\u001b[39;49m\u001b[43m \u001b[49m\u001b[38;5;241;43m+\u001b[39;49m\u001b[43m \u001b[49m\u001b[38;5;124;43m'\u001b[39;49m\u001b[38;5;124;43m10\u001b[39;49m\u001b[38;5;124;43m'\u001b[39;49m)\n",
      "\u001b[1;31mTypeError\u001b[0m: unsupported operand type(s) for +: 'int' and 'str'"
     ]
    }
   ],
   "source": [
    "print(2022 + '10')"
   ]
  },
  {
   "cell_type": "code",
   "execution_count": 22,
   "id": "dd4d6181",
   "metadata": {},
   "outputs": [
    {
     "name": "stdout",
     "output_type": "stream",
     "text": [
      "2032\n"
     ]
    }
   ],
   "source": [
    "print(2022 + int('10'))"
   ]
  },
  {
   "cell_type": "markdown",
   "id": "170219cc",
   "metadata": {},
   "source": [
    "## ValueError"
   ]
  },
  {
   "cell_type": "markdown",
   "id": "03aaa376",
   "metadata": {},
   "source": [
    "`ValueError` : Elle aussi a de nombreuses causes possibles. Globalement, il s’agit d’un problème de valeur, même si le type est correct. Par exemple, si on essaie de convertir une chaîne de caractère contenant autre chose que des chiffres en `int`."
   ]
  },
  {
   "cell_type": "code",
   "execution_count": 26,
   "id": "b1832c68",
   "metadata": {},
   "outputs": [
    {
     "ename": "ValueError",
     "evalue": "invalid literal for int() with base 10: 'dix'",
     "output_type": "error",
     "traceback": [
      "\u001b[1;31m---------------------------------------------------------------------------\u001b[0m",
      "\u001b[1;31mValueError\u001b[0m                                Traceback (most recent call last)",
      "Input \u001b[1;32mIn [26]\u001b[0m, in \u001b[0;36m<cell line: 1>\u001b[1;34m()\u001b[0m\n\u001b[1;32m----> 1\u001b[0m \u001b[38;5;28mprint\u001b[39m(\u001b[38;5;28;43mint\u001b[39;49m\u001b[43m(\u001b[49m\u001b[38;5;124;43m\"\u001b[39;49m\u001b[38;5;124;43mdix\u001b[39;49m\u001b[38;5;124;43m\"\u001b[39;49m\u001b[43m)\u001b[49m)\n",
      "\u001b[1;31mValueError\u001b[0m: invalid literal for int() with base 10: 'dix'"
     ]
    }
   ],
   "source": [
    "print(int(\"dix\"))"
   ]
  },
  {
   "cell_type": "code",
   "execution_count": 27,
   "id": "60a60476",
   "metadata": {},
   "outputs": [
    {
     "name": "stdout",
     "output_type": "stream",
     "text": [
      "10\n"
     ]
    }
   ],
   "source": [
    "print(int('10'))"
   ]
  },
  {
   "cell_type": "markdown",
   "id": "4da35d1f",
   "metadata": {},
   "source": [
    "## FileNotFoundError"
   ]
  },
  {
   "cell_type": "markdown",
   "id": "14877df6",
   "metadata": {},
   "source": [
    "`FileNotFoundError` : Le fichier auquel nous faisons référence n’existe pas ou est mal ciblé."
   ]
  },
  {
   "cell_type": "code",
   "execution_count": 30,
   "id": "29c97d0e",
   "metadata": {},
   "outputs": [
    {
     "ename": "FileNotFoundError",
     "evalue": "[Errno 2] No such file or directory: 'fichier.txt'",
     "output_type": "error",
     "traceback": [
      "\u001b[1;31m---------------------------------------------------------------------------\u001b[0m",
      "\u001b[1;31mFileNotFoundError\u001b[0m                         Traceback (most recent call last)",
      "Input \u001b[1;32mIn [30]\u001b[0m, in \u001b[0;36m<cell line: 1>\u001b[1;34m()\u001b[0m\n\u001b[1;32m----> 1\u001b[0m file \u001b[38;5;241m=\u001b[39m \u001b[38;5;28;43mopen\u001b[39;49m\u001b[43m(\u001b[49m\u001b[38;5;124;43m\"\u001b[39;49m\u001b[38;5;124;43mfichier.txt\u001b[39;49m\u001b[38;5;124;43m\"\u001b[39;49m\u001b[43m,\u001b[49m\u001b[43m \u001b[49m\u001b[38;5;124;43m\"\u001b[39;49m\u001b[38;5;124;43mr\u001b[39;49m\u001b[38;5;124;43m\"\u001b[39;49m\u001b[43m)\u001b[49m\n\u001b[0;32m      2\u001b[0m \u001b[38;5;28mprint\u001b[39m(file\u001b[38;5;241m.\u001b[39mread())\n",
      "\u001b[1;31mFileNotFoundError\u001b[0m: [Errno 2] No such file or directory: 'fichier.txt'"
     ]
    }
   ],
   "source": [
    "file = open(\"fichier.txt\", \"r\")\n",
    "print(file.read())"
   ]
  },
  {
   "cell_type": "code",
   "execution_count": 31,
   "id": "7e64ab87",
   "metadata": {},
   "outputs": [
    {
     "name": "stdout",
     "output_type": "stream",
     "text": [
      "exemple texte dans un fichier\n"
     ]
    }
   ],
   "source": [
    "with open('fichier.txt', 'w') as f:\n",
    "    f.write('exemple texte dans un fichier')\n",
    "    \n",
    "file = open(\"fichier.txt\", \"r\")\n",
    "print(file.read())"
   ]
  },
  {
   "cell_type": "markdown",
   "id": "9894bee2",
   "metadata": {},
   "source": [
    "## ModuleNotFoundError"
   ]
  },
  {
   "cell_type": "markdown",
   "id": "1c3774e7",
   "metadata": {},
   "source": [
    "`ModuleNotFoundError` : Le module auquel nous faisons référence est inconnu. Il faut l’importer ou le créer."
   ]
  },
  {
   "cell_type": "code",
   "execution_count": 32,
   "id": "369902f1",
   "metadata": {},
   "outputs": [
    {
     "ename": "ModuleNotFoundError",
     "evalue": "No module named 'moduleInconnu'",
     "output_type": "error",
     "traceback": [
      "\u001b[1;31m---------------------------------------------------------------------------\u001b[0m",
      "\u001b[1;31mModuleNotFoundError\u001b[0m                       Traceback (most recent call last)",
      "Input \u001b[1;32mIn [32]\u001b[0m, in \u001b[0;36m<cell line: 1>\u001b[1;34m()\u001b[0m\n\u001b[1;32m----> 1\u001b[0m \u001b[38;5;28;01mimport\u001b[39;00m \u001b[38;5;21;01mmoduleInconnu\u001b[39;00m\n",
      "\u001b[1;31mModuleNotFoundError\u001b[0m: No module named 'moduleInconnu'"
     ]
    }
   ],
   "source": [
    "import moduleInconnu"
   ]
  },
  {
   "cell_type": "code",
   "execution_count": 33,
   "id": "e27c909c",
   "metadata": {},
   "outputs": [],
   "source": [
    "# Importer un module existant (ex. pandas\n",
    "import pandas"
   ]
  },
  {
   "cell_type": "code",
   "execution_count": null,
   "id": "554292eb",
   "metadata": {},
   "outputs": [],
   "source": []
  }
 ],
 "metadata": {
  "kernelspec": {
   "display_name": "Python 3 (ipykernel)",
   "language": "python",
   "name": "python3"
  },
  "language_info": {
   "codemirror_mode": {
    "name": "ipython",
    "version": 3
   },
   "file_extension": ".py",
   "mimetype": "text/x-python",
   "name": "python",
   "nbconvert_exporter": "python",
   "pygments_lexer": "ipython3",
   "version": "3.9.12"
  }
 },
 "nbformat": 4,
 "nbformat_minor": 5
}
